{
 "cells": [
  {
   "cell_type": "code",
   "execution_count": 1,
   "metadata": {},
   "outputs": [],
   "source": [
    "import requests\n",
    "import json\n",
    "from bs4 import BeautifulSoup"
   ]
  },
  {
   "cell_type": "code",
   "execution_count": 11,
   "metadata": {},
   "outputs": [],
   "source": [
    "url_detail = 'https://www.one2car.com/for-sale/bmw-530e-m-sport-กรุงเทพและปริมณฑล-พระราม3-สาทร-พระราม4/7170868'"
   ]
  },
  {
   "cell_type": "code",
   "execution_count": 13,
   "metadata": {},
   "outputs": [
    {
     "name": "stdout",
     "output_type": "stream",
     "text": [
      "['https:', '', 'www.one2car.com', 'for-sale', 'bmw-530e-m-sport-กรุงเทพและปริมณฑล-พระราม3-สาทร-พระราม4', '7170868']\n",
      "7170868\n"
     ]
    }
   ],
   "source": [
    "test = url_detail.split(\"/\")\n",
    "print(test)\n",
    "print(test[-1])"
   ]
  },
  {
   "cell_type": "code",
   "execution_count": 4,
   "metadata": {},
   "outputs": [],
   "source": [
    "web_data = requests.get(url_detail)\n",
    "\n",
    "soup2 = BeautifulSoup(web_data.text,'html.parser')\n",
    "\n",
    "car = soup2.find_all(\"div\",{\"class\":\"list-item\"})"
   ]
  },
  {
   "cell_type": "code",
   "execution_count": 7,
   "metadata": {},
   "outputs": [],
   "source": [
    "example_array = {}"
   ]
  },
  {
   "cell_type": "code",
   "execution_count": 8,
   "metadata": {},
   "outputs": [
    {
     "name": "stdout",
     "output_type": "stream",
     "text": [
      "ประเภทรถ  /  รถมือสอง\n",
      "ยี่ห้อ  /  BMW\n",
      "รุ่น  /  530e\n",
      "โฉมรถยนต์  /  G30 (ปี 17-22)\n",
      "รายละเอียดรุ่น  /  M Sport\n",
      "ปี  /  2018\n",
      "ขนาดเครื่องยนต์  /  1998 ซีซี\n",
      "ระบบเกียร์  /  เกียร์อัตโนมัติ\n",
      "จำนวนที่นั่ง  /  5\n",
      "เลขไมล์ (กม.)  /  70 - 75K\n",
      "สี  /  สีอื่นๆ\n",
      "เกียร์  /  เกียร์อัตโนมัติ\n",
      "จำนวนเกียร์  /  8\n",
      "ประตู  /  4\n",
      "จำนวนที่นั่ง  /  5\n",
      "ประเภทการประกอบ  /  Locally Built\n",
      "ความจุเครื่องยนต์  /  1998\n",
      "ขนาดกระบอกสูบ  /  94.6\n",
      "ระยะช่วงชัก  /  82\n",
      "อัตราส่วนการอัด   /  11\n",
      "กำลังสูงสุด  /  184\n",
      "แรงบิดสูงสุด  /  290\n",
      "รุ่นเครื่องยนต์  /  B48B20A\n",
      "ชนิดเครื่องยนต์  /  Piston\n",
      "Direct Injection  /  Direct Injection\n",
      "Aspiration  /  Turbo intercooled\n",
      "ประเภทเชื้อเพลิง  /  Petrol - Unleaded (ULP)\n",
      "อัตราการสิ้นเปลืองน้ำมัน 100 กม.ต่อลิตร  /  1.8\n",
      "อัตราการปล่อยก๊าซคาร์บอนไดออกไซด์  /  41\n",
      "อัตราเร่ง 0-100 km/h  /  6.2\n",
      "แรงบิดสูงสุด  /  235\n",
      "ความยาว  /  4936\n",
      "ความกว้าง  /  1868\n",
      "ความสูง  /  1483\n",
      "น้ำหนักรถ  /  1770\n",
      "ความจุถังน้ำมัน  /  41\n",
      "ระบบพวงมาลัย  /  Rack and Pinion\n",
      "ขนาดล้อหน้า  /  245/40 R19\n",
      "ขนาดล้อหลัง  /  275/35 R19\n",
      "ขอบล้อหน้า  /  19 x 8J\n",
      "ขอบล้อหลัง  /  19 x 9J\n",
      "Air-conditioning  /  Automatic air conditioning\n",
      "Interior lighting  /  Ambient lighting\n",
      "Power driver seat  /  Seat, Driver's Electric Memory\n",
      "Sunroof  /  Electric sunroof\n",
      "อื่น ๆ  /  Brake Energy Regeneration Rear view mirror anti-dazzle\n",
      "Auto start/stop  /  Auto Start/Stop system\n",
      "Auto wipers  /  Rain sensor\n",
      "Heads-up display  /  Head Up Display (HUD)\n",
      "Navigation  /  Navigation System (GPS)\n",
      "Reverse camera  /  Camera, Rear\n",
      "Steering wheel controls  /  Paddle Shift\n",
      "อื่น ๆ  /  Voice Control\n",
      "Front foglamps  /  Fog light,LED\n",
      "Headlamps  /  Automatic driving lights control\n",
      "ABS/EBD  /  Brake Assist System (BA/BAS) Brake, Anti-Lock (ABS)\n",
      "Front Airbags  /  Airbags, dual front\n",
      "Side Airbags  /  Airbags, front side body\n",
      "Stability control  /  Cornering Brake Control (CBC) Dynamic Stability Control (DSC)\n",
      "อื่น ๆ  /  Adaptive High Beam Assist Emergency Stop Signal (ESS) Side Impact Protection System\n",
      "ประเภทรถ  /  รถมือสอง\n",
      "ยี่ห้อ  /  BMW\n",
      "รุ่น  /  530e\n",
      "โฉมรถยนต์  /  G30 (ปี 17-22)\n",
      "รายละเอียดรุ่น  /  M Sport\n",
      "ปี  /  2018\n",
      "ขนาดเครื่องยนต์  /  1998 ซีซี\n",
      "ระบบเกียร์  /  เกียร์อัตโนมัติ\n",
      "จำนวนที่นั่ง  /  5\n",
      "เลขไมล์ (กม.)  /  70 - 75K\n",
      "สี  /  สีอื่นๆ\n"
     ]
    }
   ],
   "source": [
    "for item in car :\n",
    "    if item.find('span') == None :\n",
    "        continue\n",
    "    if len(item.find_all('span')) == 2 :\n",
    "        print(item.find_all('span')[0].text, \" / \", item.find_all('span')[1].text)\n",
    "        key = item.find_all('span')[0].text\n",
    "        value = item.find_all('span')[1].text\n",
    "        example_array[key] = value"
   ]
  },
  {
   "cell_type": "code",
   "execution_count": 9,
   "metadata": {},
   "outputs": [
    {
     "name": "stdout",
     "output_type": "stream",
     "text": [
      "car {\"ประเภทรถ\": \"รถมือสอง\", \"ยี่ห้อ\": \"BMW\", \"รุ่น\": \"530e\", \"โฉมรถยนต์\": \"G30 (ปี 17-22)\", \"รายละเอียดรุ่น\": \"M Sport\", \"ปี\": \"2018\", \"ขนาดเครื่องยนต์\": \"1998 ซีซี\", \"ระบบเกียร์\": \"เกียร์อัตโนมัติ\", \"จำนวนที่นั่ง\": \"5\", \"เลขไมล์ (กม.)\": \"70 - 75K\", \"สี\": \"สีอื่นๆ\", \"เกียร์\": \"เกียร์อัตโนมัติ\", \"จำนวนเกียร์\": \"8\", \"ประตู\": \"4\", \"ประเภทการประกอบ\": \"Locally Built\", \"ความจุเครื่องยนต์\": \"1998\", \"ขนาดกระบอกสูบ\": \"94.6\", \"ระยะช่วงชัก\": \"82\", \"อัตราส่วนการอัด \": \"11\", \"กำลังสูงสุด\": \"184\", \"แรงบิดสูงสุด\": \"235\", \"รุ่นเครื่องยนต์\": \"B48B20A\", \"ชนิดเครื่องยนต์\": \"Piston\", \"Direct Injection\": \"Direct Injection\", \"Aspiration\": \"Turbo intercooled\", \"ประเภทเชื้อเพลิง\": \"Petrol - Unleaded (ULP)\", \"อัตราการสิ้นเปลืองน้ำมัน 100 กม.ต่อลิตร\": \"1.8\", \"อัตราการปล่อยก๊าซคาร์บอนไดออกไซด์\": \"41\", \"อัตราเร่ง 0-100 km/h\": \"6.2\", \"ความยาว\": \"4936\", \"ความกว้าง\": \"1868\", \"ความสูง\": \"1483\", \"น้ำหนักรถ\": \"1770\", \"ความจุถังน้ำมัน\": \"41\", \"ระบบพวงมาลัย\": \"Rack and Pinion\", \"ขนาดล้อหน้า\": \"245/40 R19\", \"ขนาดล้อหลัง\": \"275/35 R19\", \"ขอบล้อหน้า\": \"19 x 8J\", \"ขอบล้อหลัง\": \"19 x 9J\", \"Air-conditioning\": \"Automatic air conditioning\", \"Interior lighting\": \"Ambient lighting\", \"Power driver seat\": \"Seat, Driver's Electric Memory\", \"Sunroof\": \"Electric sunroof\", \"อื่น ๆ\": \"Adaptive High Beam Assist Emergency Stop Signal (ESS) Side Impact Protection System\", \"Auto start/stop\": \"Auto Start/Stop system\", \"Auto wipers\": \"Rain sensor\", \"Heads-up display\": \"Head Up Display (HUD)\", \"Navigation\": \"Navigation System (GPS)\", \"Reverse camera\": \"Camera, Rear\", \"Steering wheel controls\": \"Paddle Shift\", \"Front foglamps\": \"Fog light,LED\", \"Headlamps\": \"Automatic driving lights control\", \"ABS/EBD\": \"Brake Assist System (BA/BAS) Brake, Anti-Lock (ABS)\", \"Front Airbags\": \"Airbags, dual front\", \"Side Airbags\": \"Airbags, front side body\", \"Stability control\": \"Cornering Brake Control (CBC) Dynamic Stability Control (DSC)\"} \n",
      "\n"
     ]
    }
   ],
   "source": [
    "#save to json\n",
    "print(\"car\",json.dumps(example_array,ensure_ascii=False),\"\\n\")\n",
    "with open(test[-1]+\".json\", \"w\") as f:\n",
    "    json.dump(example_array, f, ensure_ascii=False)\n"
   ]
  },
  {
   "cell_type": "code",
   "execution_count": null,
   "metadata": {},
   "outputs": [],
   "source": []
  }
 ],
 "metadata": {
  "kernelspec": {
   "display_name": "Python 3",
   "language": "python",
   "name": "python3"
  },
  "language_info": {
   "codemirror_mode": {
    "name": "ipython",
    "version": 3
   },
   "file_extension": ".py",
   "mimetype": "text/x-python",
   "name": "python",
   "nbconvert_exporter": "python",
   "pygments_lexer": "ipython3",
   "version": "3.9.0"
  }
 },
 "nbformat": 4,
 "nbformat_minor": 4
}
